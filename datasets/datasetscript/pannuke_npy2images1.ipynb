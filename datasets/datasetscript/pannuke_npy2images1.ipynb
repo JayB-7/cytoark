{
 "cells": [
  {
   "cell_type": "code",
   "execution_count": 1,
   "metadata": {},
   "outputs": [],
   "source": [
    "## conic dataset\n",
    "# read in npy data and store them as images (png) and labels (tiff)\n",
    "#%%\n",
    "import numpy as np\n",
    "import pandas as pd\n",
    "import os\n",
    "import cv2\n",
    "import matplotlib.pyplot as plt\n",
    "from skimage.measure import label\n",
    "\n",
    "# 1: Neoplastic \n",
    "# 2: Inflammatory\n",
    "# 3: Connective\n",
    "# 4: Dead \n",
    "# 5: Epithelial\n",
    "\n",
    "# folder with original dataset\n",
    "rootfolder = \"E:\\Pannuke\"\n",
    "# folder where to store labels and images as tiff and png\n",
    "outputfolder = \"D:/NucleiSegmentation/Projects/NCIS/NeuronInstanceSeg-master/NeuronInstanceSeg-master/datasets/Pannuke/40x/256x256\"\n",
    "\n",
    "foldlist_ = [\"fold_1\", \"fold_2\",\"fold_3\"]\n",
    "foldlist = [\"fold1\", \"fold2\",\"fold3\"]\n",
    "# E:\\Pannuke\\fold_1\\images\\fold1\n",
    "\n",
    "typesall = []\n",
    "namesall = []\n",
    "foldsall = []\n",
    "\n",
    "for j, foldj in enumerate(foldlist):\n",
    "    foldi = foldlist_[j]\n",
    "    images = np.load(os.path.join(rootfolder,foldi,\"images\",foldj,'images.npy'))\n",
    "    types = np.load(os.path.join(rootfolder,foldi,\"images\",foldj,'types.npy'))\n",
    "    masks = np.load(os.path.join(rootfolder,foldi,\"masks\",foldj,'masks.npy'))\n",
    "    typesall.extend(list(types))\n",
    "    for i in np.arange(images.shape[0]):\n",
    "        cv2.imwrite(os.path.join(outputfolder,'image', \"pannuke_\"+types[i].lower() +\"_\"+foldj+\"_\"+str(i)+'.png'), cv2.cvtColor(images[i].astype(np.uint8), cv2.COLOR_RGB2BGR))\n",
    "        classes = np.zeros([256,256])\n",
    "        # this does nto work because there are pixels in pannuke that are assigned to more than one class\n",
    "        # so the sum leads to non existing classes (e.g., class 8)\n",
    "        #classes = np.sum(np.ones([256,256,5])*np.array([1,2,3,4,5])*((masks[i,:,:,0:5]>0)).astype(int), axis = -1)\n",
    "        for c in np.arange(5):\n",
    "            classes[masks[i,:,:,c]>0]=c+1\n",
    "        cv2.imwrite(os.path.join(outputfolder,'class', \"pannuke_\"+types[i].lower() +\"_\"+foldj+\"_\"+str(i)+'.tiff'), classes)\n",
    "        labels = label(np.sum(masks[i,:,:,0:5],axis = -1).astype(int),connectivity=1)\n",
    "        cv2.imwrite(os.path.join(outputfolder,'label',  \"pannuke_\"+types[i].lower() +\"_\"+foldj+\"_\"+str(i)+'.tiff'), labels)\n",
    "        namesall.append(\"pannuke_\"+types[i].lower() +\"_\"+foldj+\"_\"+str(i))\n",
    "        foldsall.append(foldj)\n",
    "\n",
    "# for i, filename in enumerate(file_names):\n",
    "#     cv2.imwrite(os.path.join(outputfolder,'label', filename+\"_\"+foldi+'.tiff'), labels[i,:,:,0])\n",
    "#     # open cv assumes images on disk to be rgb and manage them in memory as bgr\n",
    "#     # when writing on disk, it assumes the image in memory (to be written onto disk) to be bgr, so we need to voncert it first\n",
    "#     cv2.imwrite(os.path.join(outputfolder,'image', filename+\"_\"+foldi+'.png'), cv2.cvtColor(images[i], cv2.COLOR_RGB2BGR))\n",
    "#     # save class labels\n",
    "#     cv2.imwrite(os.path.join(outputfolder,'class', filename+'.tiff'), labels[i,:,:,1])\n",
    "# #cv2.imwrite(os.path.join(label_folder, image.split('.p')[0].split('\\\\')[-1]+'.tiff'), img)\n",
    "# #%%"
   ]
  },
  {
   "cell_type": "code",
   "execution_count": 2,
   "metadata": {},
   "outputs": [
    {
     "name": "stdout",
     "output_type": "stream",
     "text": [
      "                          name  tissue fold_original\n",
      "0       pannuke_breast_fold1_0  Breast         fold1\n",
      "1       pannuke_breast_fold1_1  Breast         fold1\n",
      "2       pannuke_breast_fold1_2  Breast         fold1\n",
      "3       pannuke_breast_fold1_3  Breast         fold1\n",
      "4       pannuke_breast_fold1_4  Breast         fold1\n",
      "...                        ...     ...           ...\n",
      "7896  pannuke_colon_fold3_2717   Colon         fold3\n",
      "7897  pannuke_colon_fold3_2718   Colon         fold3\n",
      "7898  pannuke_colon_fold3_2719   Colon         fold3\n",
      "7899  pannuke_colon_fold3_2720   Colon         fold3\n",
      "7900  pannuke_colon_fold3_2721   Colon         fold3\n",
      "\n",
      "[7901 rows x 3 columns]\n"
     ]
    }
   ],
   "source": [
    "# dictionary of lists \n",
    "dict = {'name': namesall, 'tissue': typesall, 'fold_original': foldsall} \n",
    "    \n",
    "df = pd.DataFrame(dict)\n",
    "    \n",
    "print(df)\n",
    "df.to_csv('pannuke_info.csv', index=False)"
   ]
  }
 ],
 "metadata": {
  "kernelspec": {
   "display_name": "ncis_env",
   "language": "python",
   "name": "python3"
  },
  "language_info": {
   "codemirror_mode": {
    "name": "ipython",
    "version": 3
   },
   "file_extension": ".py",
   "mimetype": "text/x-python",
   "name": "python",
   "nbconvert_exporter": "python",
   "pygments_lexer": "ipython3",
   "version": "3.8.18"
  }
 },
 "nbformat": 4,
 "nbformat_minor": 2
}
