{
 "cells": [
  {
   "cell_type": "code",
   "execution_count": 37,
   "metadata": {},
   "outputs": [],
   "source": [
    "## conic dataset\n",
    "# read in npy data and store them as images (png) and labels/classes (tiff)\n",
    "\n",
    "import numpy as np\n",
    "import pandas as pd\n",
    "import os\n",
    "import cv2\n",
    "import matplotlib.pyplot as plt\n",
    "\n",
    "# folder with original dataset\n",
    "rootfolder = \"E:/Conic/CoNIC Challenge Train-20231214T165512Z-002/CoNIC Challenge Train\"\n",
    "# folder where to store labels and images as tiff and png\n",
    "outputfolder = \"D:/NucleiSegmentation/Projects/cytoark/datasets/conic/20x/256x256\"\n",
    "images = np.load(os.path.join(rootfolder,'images.npy'))\n",
    "labels = np.load(os.path.join(rootfolder,'labels.npy'))\n",
    "info = pd.read_csv(os.path.join(rootfolder,'patch_info.csv'))\n",
    "file_names = np.squeeze(info.to_numpy()).tolist()\n",
    "\n",
    "for i, filename in enumerate(file_names):\n",
    "    cv2.imwrite(os.path.join(outputfolder,'label', filename+'.tiff'), labels[i,:,:,0])\n",
    "    # open cv assumes images on disk to be rgb and manage them in memory as bgr\n",
    "    # when writing on disk, it assumes the image in memory (to be written onto disk) to be bgr, so we need to voncert it first\n",
    "    cv2.imwrite(os.path.join(outputfolder,'image', filename+'.png'), cv2.cvtColor(images[i], cv2.COLOR_RGB2BGR))\n",
    "    # save class labels\n",
    "    cv2.imwrite(os.path.join(outputfolder,'class', filename+'.tiff'), labels[i,:,:,1])\n",
    "\n"
   ]
  }
 ],
 "metadata": {
  "kernelspec": {
   "display_name": "ncis_env",
   "language": "python",
   "name": "python3"
  },
  "language_info": {
   "codemirror_mode": {
    "name": "ipython",
    "version": 3
   },
   "file_extension": ".py",
   "mimetype": "text/x-python",
   "name": "python",
   "nbconvert_exporter": "python",
   "pygments_lexer": "ipython3",
   "version": "3.8.0"
  }
 },
 "nbformat": 4,
 "nbformat_minor": 2
}
